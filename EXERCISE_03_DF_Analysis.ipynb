{
  "cells": [
    {
      "cell_type": "markdown",
      "metadata": {
        "id": "view-in-github",
        "colab_type": "text"
      },
      "source": [
        "<a href=\"https://colab.research.google.com/github/awakechaudhry/Dataframe_ex03-/blob/main/EXERCISE_03_DF_Analysis.ipynb\" target=\"_parent\"><img src=\"https://colab.research.google.com/assets/colab-badge.svg\" alt=\"Open In Colab\"/></a>"
      ]
    },
    {
      "cell_type": "markdown",
      "id": "04b3f624",
      "metadata": {
        "id": "04b3f624"
      },
      "source": [
        "# DataFrame Analysis Exercise\n",
        "\n",
        "**Import the `bestsellers.csv` dataset and use it to answer the following questions:**\n",
        "\n",
        "* Find the lowest User Rating in the DF\n",
        "* Find the highest Price in the DF\n",
        "* What is the average User Rating?\n",
        "* What the average User Rating of the first 5 rows?\n",
        "* What User Review score appeared the most?\n",
        "* What is the total (sum) of all the values in the Reviews column?\n",
        "* How many different authors are featured in the dataset?\n",
        "* Which author wrote the most number of books on the list?  How many did they write?"
      ]
    },
    {
      "cell_type": "code",
      "execution_count": null,
      "id": "5fad33d8",
      "metadata": {
        "id": "5fad33d8"
      },
      "outputs": [],
      "source": [
        "import pandas as pd"
      ]
    },
    {
      "cell_type": "code",
      "execution_count": null,
      "id": "2b4ba270",
      "metadata": {
        "id": "2b4ba270"
      },
      "outputs": [],
      "source": [
        "bs=pd.read_csv('data/bestsellers.csv')"
      ]
    },
    {
      "cell_type": "code",
      "execution_count": null,
      "id": "4be65a6b",
      "metadata": {
        "id": "4be65a6b",
        "outputId": "45d434f8-e6be-479f-9d84-dcb888c605f3"
      },
      "outputs": [
        {
          "data": {
            "text/html": [
              "<div>\n",
              "<style scoped>\n",
              "    .dataframe tbody tr th:only-of-type {\n",
              "        vertical-align: middle;\n",
              "    }\n",
              "\n",
              "    .dataframe tbody tr th {\n",
              "        vertical-align: top;\n",
              "    }\n",
              "\n",
              "    .dataframe thead th {\n",
              "        text-align: right;\n",
              "    }\n",
              "</style>\n",
              "<table border=\"1\" class=\"dataframe\">\n",
              "  <thead>\n",
              "    <tr style=\"text-align: right;\">\n",
              "      <th></th>\n",
              "      <th>Name</th>\n",
              "      <th>Author</th>\n",
              "      <th>User Rating</th>\n",
              "      <th>Reviews</th>\n",
              "      <th>Price</th>\n",
              "      <th>Year</th>\n",
              "      <th>Genre</th>\n",
              "    </tr>\n",
              "  </thead>\n",
              "  <tbody>\n",
              "    <tr>\n",
              "      <th>0</th>\n",
              "      <td>10-Day Green Smoothie Cleanse</td>\n",
              "      <td>JJ Smith</td>\n",
              "      <td>4.7</td>\n",
              "      <td>17350</td>\n",
              "      <td>8</td>\n",
              "      <td>2016</td>\n",
              "      <td>Non Fiction</td>\n",
              "    </tr>\n",
              "    <tr>\n",
              "      <th>1</th>\n",
              "      <td>11/22/63: A Novel</td>\n",
              "      <td>Stephen King</td>\n",
              "      <td>4.6</td>\n",
              "      <td>2052</td>\n",
              "      <td>22</td>\n",
              "      <td>2011</td>\n",
              "      <td>Fiction</td>\n",
              "    </tr>\n",
              "    <tr>\n",
              "      <th>2</th>\n",
              "      <td>12 Rules for Life: An Antidote to Chaos</td>\n",
              "      <td>Jordan B. Peterson</td>\n",
              "      <td>4.7</td>\n",
              "      <td>18979</td>\n",
              "      <td>15</td>\n",
              "      <td>2018</td>\n",
              "      <td>Non Fiction</td>\n",
              "    </tr>\n",
              "    <tr>\n",
              "      <th>3</th>\n",
              "      <td>1984 (Signet Classics)</td>\n",
              "      <td>George Orwell</td>\n",
              "      <td>4.7</td>\n",
              "      <td>21424</td>\n",
              "      <td>6</td>\n",
              "      <td>2017</td>\n",
              "      <td>Fiction</td>\n",
              "    </tr>\n",
              "    <tr>\n",
              "      <th>4</th>\n",
              "      <td>5,000 Awesome Facts (About Everything!) (Natio...</td>\n",
              "      <td>National Geographic Kids</td>\n",
              "      <td>4.8</td>\n",
              "      <td>7665</td>\n",
              "      <td>12</td>\n",
              "      <td>2019</td>\n",
              "      <td>Non Fiction</td>\n",
              "    </tr>\n",
              "  </tbody>\n",
              "</table>\n",
              "</div>"
            ],
            "text/plain": [
              "                                                Name  \\\n",
              "0                      10-Day Green Smoothie Cleanse   \n",
              "1                                  11/22/63: A Novel   \n",
              "2            12 Rules for Life: An Antidote to Chaos   \n",
              "3                             1984 (Signet Classics)   \n",
              "4  5,000 Awesome Facts (About Everything!) (Natio...   \n",
              "\n",
              "                     Author  User Rating  Reviews  Price  Year        Genre  \n",
              "0                  JJ Smith          4.7    17350      8  2016  Non Fiction  \n",
              "1              Stephen King          4.6     2052     22  2011      Fiction  \n",
              "2        Jordan B. Peterson          4.7    18979     15  2018  Non Fiction  \n",
              "3             George Orwell          4.7    21424      6  2017      Fiction  \n",
              "4  National Geographic Kids          4.8     7665     12  2019  Non Fiction  "
            ]
          },
          "execution_count": 4,
          "metadata": {},
          "output_type": "execute_result"
        }
      ],
      "source": [
        "bs.head()"
      ]
    },
    {
      "cell_type": "code",
      "execution_count": null,
      "id": "cd4caaa3",
      "metadata": {
        "id": "cd4caaa3",
        "outputId": "026dbc03-53b6-4dc0-f11c-daf0d58ff3fa"
      },
      "outputs": [
        {
          "data": {
            "text/plain": [
              "3.3"
            ]
          },
          "execution_count": 5,
          "metadata": {},
          "output_type": "execute_result"
        }
      ],
      "source": [
        "bs['User Rating'].min()"
      ]
    },
    {
      "cell_type": "code",
      "execution_count": null,
      "id": "e8ed815a",
      "metadata": {
        "id": "e8ed815a",
        "outputId": "7c0fc3a7-1b0f-4924-d70d-94e1e8b8fe98"
      },
      "outputs": [
        {
          "data": {
            "text/plain": [
              "105"
            ]
          },
          "execution_count": 6,
          "metadata": {},
          "output_type": "execute_result"
        }
      ],
      "source": [
        "bs['Price'].max()"
      ]
    },
    {
      "cell_type": "code",
      "execution_count": null,
      "id": "89b6fdfe",
      "metadata": {
        "id": "89b6fdfe",
        "outputId": "1b24ecb3-d520-4259-ccf2-9c9923292130"
      },
      "outputs": [
        {
          "data": {
            "text/plain": [
              "4.618363636363637"
            ]
          },
          "execution_count": 7,
          "metadata": {},
          "output_type": "execute_result"
        }
      ],
      "source": [
        "bs['User Rating'].mean()"
      ]
    },
    {
      "cell_type": "code",
      "execution_count": null,
      "id": "bd37b81f",
      "metadata": {
        "id": "bd37b81f",
        "outputId": "ca26184d-56b4-40d7-e317-723c1dc7ad43"
      },
      "outputs": [
        {
          "data": {
            "text/plain": [
              "4.7"
            ]
          },
          "execution_count": 8,
          "metadata": {},
          "output_type": "execute_result"
        }
      ],
      "source": [
        "bs['User Rating'].head().mean()"
      ]
    },
    {
      "cell_type": "code",
      "execution_count": null,
      "id": "88c06cf9",
      "metadata": {
        "id": "88c06cf9",
        "outputId": "9d6c8b32-5c57-4133-cfbc-a8f65aef5ed5"
      },
      "outputs": [
        {
          "data": {
            "text/plain": [
              "0    4.8\n",
              "Name: User Rating, dtype: float64"
            ]
          },
          "execution_count": 23,
          "metadata": {},
          "output_type": "execute_result"
        }
      ],
      "source": [
        "bs['User Rating'].mode()"
      ]
    },
    {
      "cell_type": "code",
      "execution_count": null,
      "id": "21065716",
      "metadata": {
        "id": "21065716",
        "outputId": "6350e06a-6e0a-4894-9450-ba9513149617"
      },
      "outputs": [
        {
          "data": {
            "text/plain": [
              "6574305"
            ]
          },
          "execution_count": 17,
          "metadata": {},
          "output_type": "execute_result"
        }
      ],
      "source": [
        "bs['Reviews'].sum()"
      ]
    },
    {
      "cell_type": "code",
      "execution_count": null,
      "id": "c44be114",
      "metadata": {
        "id": "c44be114",
        "outputId": "19a20e7e-f5fd-48c4-f958-8fb6d63075b7"
      },
      "outputs": [
        {
          "data": {
            "text/plain": [
              "Name            object\n",
              "Author          object\n",
              "User Rating    float64\n",
              "Reviews          int64\n",
              "Price            int64\n",
              "Year             int64\n",
              "Genre           object\n",
              "dtype: object"
            ]
          },
          "execution_count": 11,
          "metadata": {},
          "output_type": "execute_result"
        }
      ],
      "source": [
        "bs.dtypes"
      ]
    },
    {
      "cell_type": "code",
      "execution_count": null,
      "id": "e90cd90e",
      "metadata": {
        "id": "e90cd90e",
        "outputId": "70584afa-0b32-4871-d366-0376178ba22f"
      },
      "outputs": [
        {
          "data": {
            "text/html": [
              "<div>\n",
              "<style scoped>\n",
              "    .dataframe tbody tr th:only-of-type {\n",
              "        vertical-align: middle;\n",
              "    }\n",
              "\n",
              "    .dataframe tbody tr th {\n",
              "        vertical-align: top;\n",
              "    }\n",
              "\n",
              "    .dataframe thead th {\n",
              "        text-align: right;\n",
              "    }\n",
              "</style>\n",
              "<table border=\"1\" class=\"dataframe\">\n",
              "  <thead>\n",
              "    <tr style=\"text-align: right;\">\n",
              "      <th></th>\n",
              "      <th>Name</th>\n",
              "      <th>Author</th>\n",
              "      <th>Genre</th>\n",
              "    </tr>\n",
              "  </thead>\n",
              "  <tbody>\n",
              "    <tr>\n",
              "      <th>count</th>\n",
              "      <td>550</td>\n",
              "      <td>550</td>\n",
              "      <td>550</td>\n",
              "    </tr>\n",
              "    <tr>\n",
              "      <th>unique</th>\n",
              "      <td>351</td>\n",
              "      <td>248</td>\n",
              "      <td>2</td>\n",
              "    </tr>\n",
              "    <tr>\n",
              "      <th>top</th>\n",
              "      <td>Publication Manual of the American Psychologic...</td>\n",
              "      <td>Jeff Kinney</td>\n",
              "      <td>Non Fiction</td>\n",
              "    </tr>\n",
              "    <tr>\n",
              "      <th>freq</th>\n",
              "      <td>10</td>\n",
              "      <td>12</td>\n",
              "      <td>310</td>\n",
              "    </tr>\n",
              "  </tbody>\n",
              "</table>\n",
              "</div>"
            ],
            "text/plain": [
              "                                                     Name       Author  \\\n",
              "count                                                 550          550   \n",
              "unique                                                351          248   \n",
              "top     Publication Manual of the American Psychologic...  Jeff Kinney   \n",
              "freq                                                   10           12   \n",
              "\n",
              "              Genre  \n",
              "count           550  \n",
              "unique            2  \n",
              "top     Non Fiction  \n",
              "freq            310  "
            ]
          },
          "execution_count": 14,
          "metadata": {},
          "output_type": "execute_result"
        }
      ],
      "source": [
        "bs.describe(include=['object'])"
      ]
    },
    {
      "cell_type": "code",
      "execution_count": null,
      "id": "02fd62c8",
      "metadata": {
        "id": "02fd62c8",
        "outputId": "75870dea-37ca-43b8-e7a1-5dd669291f2c"
      },
      "outputs": [
        {
          "data": {
            "text/plain": [
              "pandas.core.frame.DataFrame"
            ]
          },
          "execution_count": 26,
          "metadata": {},
          "output_type": "execute_result"
        }
      ],
      "source": [
        "type(bs)"
      ]
    },
    {
      "cell_type": "code",
      "execution_count": null,
      "id": "5349289b",
      "metadata": {
        "id": "5349289b",
        "outputId": "09d5480a-0246-49e9-eaa7-d89958928c3a"
      },
      "outputs": [
        {
          "data": {
            "text/plain": [
              "0    17350\n",
              "1     2052\n",
              "2    18979\n",
              "3    21424\n",
              "4     7665\n",
              "Name: Reviews, dtype: int64"
            ]
          },
          "execution_count": 28,
          "metadata": {},
          "output_type": "execute_result"
        }
      ],
      "source": [
        "bs.Reviews.head()"
      ]
    },
    {
      "cell_type": "code",
      "execution_count": null,
      "id": "5b82ce38",
      "metadata": {
        "id": "5b82ce38",
        "outputId": "be16f38b-92eb-4ba5-993e-2866a263869f"
      },
      "outputs": [
        {
          "data": {
            "text/plain": [
              "dtype('int64')"
            ]
          },
          "execution_count": 31,
          "metadata": {},
          "output_type": "execute_result"
        }
      ],
      "source": [
        "bs.Reviews.dtype"
      ]
    },
    {
      "cell_type": "code",
      "execution_count": null,
      "id": "a385045c",
      "metadata": {
        "id": "a385045c"
      },
      "outputs": [],
      "source": []
    }
  ],
  "metadata": {
    "kernelspec": {
      "display_name": "Python 3 (ipykernel)",
      "language": "python",
      "name": "python3"
    },
    "language_info": {
      "codemirror_mode": {
        "name": "ipython",
        "version": 3
      },
      "file_extension": ".py",
      "mimetype": "text/x-python",
      "name": "python",
      "nbconvert_exporter": "python",
      "pygments_lexer": "ipython3",
      "version": "3.10.9"
    },
    "colab": {
      "provenance": [],
      "include_colab_link": true
    }
  },
  "nbformat": 4,
  "nbformat_minor": 5
}